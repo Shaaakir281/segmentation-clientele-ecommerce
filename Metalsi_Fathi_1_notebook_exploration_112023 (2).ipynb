{
 "cells": [
  {
   "cell_type": "code",
   "execution_count": 2,
   "metadata": {},
   "outputs": [],
   "source": [
    "import pandas as pd"
   ]
  },
  {
   "cell_type": "markdown",
   "metadata": {},
   "source": [
    "\n",
    "## Chargement des données"
   ]
  },
  {
   "cell_type": "code",
   "execution_count": 31,
   "metadata": {},
   "outputs": [],
   "source": [
    "# Importation des fichiers\n",
    "customers = pd.read_csv('./archive (1)/olist_customers_dataset.csv')\n",
    "orders = pd.read_csv('./archive (1)/olist_orders_dataset.csv')\n",
    "order_item = pd.read_csv('./archive (1)/olist_order_items_dataset.csv')\n",
    "order_payment = pd.read_csv('./archive (1)/olist_order_payments_dataset.csv')\n",
    "order_review = pd.read_csv('./archive (1)/olist_order_reviews_dataset.csv')\n",
    "product = pd.read_csv('./archive (1)/olist_products_dataset.csv')\n",
    "seller = pd.read_csv('./archive (1)/olist_sellers_dataset.csv')\n",
    "product_category = pd.read_csv('./archive (1)/product_category_name_translation.csv')\n",
    "localisation = pd.read_csv('./archive (1)/olist_geolocation_dataset.csv')"
   ]
  },
  {
   "cell_type": "markdown",
   "metadata": {},
   "source": [
    "# Création d'un dataset général"
   ]
  },
  {
   "cell_type": "markdown",
   "metadata": {},
   "source": [
    "### 1. Order_items"
   ]
  },
  {
   "cell_type": "code",
   "execution_count": 32,
   "metadata": {},
   "outputs": [
    {
     "name": "stdout",
     "output_type": "stream",
     "text": [
      "                             product_id              product_category_name  \\\n",
      "0      1e9e8ef04dbcff4541ed26657ea517e5                         perfumaria   \n",
      "1      3aa071139cb16b67ca9e5dea641aaa2f                              artes   \n",
      "2      96bd76ec8810374ed1b65e291975717f                      esporte_lazer   \n",
      "3      cef67bcfe19066a932b7673e239eb23d                              bebes   \n",
      "4      9dc1a7de274444849c219cff195d0b71              utilidades_domesticas   \n",
      "...                                 ...                                ...   \n",
      "32946  a0b7d5a992ccda646f2d34e418fff5a0                   moveis_decoracao   \n",
      "32947  bf4538d88321d0fd4412a93c974510e6  construcao_ferramentas_iluminacao   \n",
      "32948  9a7c6041fa9592d9d9ef6cfe62a71f8c                    cama_mesa_banho   \n",
      "32949  83808703fc0706a22e264b9d75f04a2e             informatica_acessorios   \n",
      "32950  106392145fca363410d287a815be6de4                    cama_mesa_banho   \n",
      "\n",
      "       product_name_lenght  product_description_lenght  product_photos_qty  \\\n",
      "0                     40.0                       287.0                 1.0   \n",
      "1                     44.0                       276.0                 1.0   \n",
      "2                     46.0                       250.0                 1.0   \n",
      "3                     27.0                       261.0                 1.0   \n",
      "4                     37.0                       402.0                 4.0   \n",
      "...                    ...                         ...                 ...   \n",
      "32946                 45.0                        67.0                 2.0   \n",
      "32947                 41.0                       971.0                 1.0   \n",
      "32948                 50.0                       799.0                 1.0   \n",
      "32949                 60.0                       156.0                 2.0   \n",
      "32950                 58.0                       309.0                 1.0   \n",
      "\n",
      "       product_weight_g  product_length_cm  product_height_cm  \\\n",
      "0                 225.0               16.0               10.0   \n",
      "1                1000.0               30.0               18.0   \n",
      "2                 154.0               18.0                9.0   \n",
      "3                 371.0               26.0                4.0   \n",
      "4                 625.0               20.0               17.0   \n",
      "...                 ...                ...                ...   \n",
      "32946           12300.0               40.0               40.0   \n",
      "32947            1700.0               16.0               19.0   \n",
      "32948            1400.0               27.0                7.0   \n",
      "32949             700.0               31.0               13.0   \n",
      "32950            2083.0               12.0                2.0   \n",
      "\n",
      "       product_width_cm  \n",
      "0                  14.0  \n",
      "1                  20.0  \n",
      "2                  15.0  \n",
      "3                  26.0  \n",
      "4                  13.0  \n",
      "...                 ...  \n",
      "32946              40.0  \n",
      "32947              16.0  \n",
      "32948              27.0  \n",
      "32949              20.0  \n",
      "32950               7.0  \n",
      "\n",
      "[32951 rows x 9 columns]\n"
     ]
    }
   ],
   "source": [
    "print(product)"
   ]
  },
  {
   "cell_type": "code",
   "execution_count": 33,
   "metadata": {},
   "outputs": [
    {
     "data": {
      "text/plain": [
       "(112650, 7)"
      ]
     },
     "execution_count": 33,
     "metadata": {},
     "output_type": "execute_result"
    }
   ],
   "source": [
    "order_item.shape"
   ]
  },
  {
   "cell_type": "code",
   "execution_count": 34,
   "metadata": {},
   "outputs": [
    {
     "data": {
      "text/plain": [
       "(112650, 9)"
      ]
     },
     "execution_count": 34,
     "metadata": {},
     "output_type": "execute_result"
    }
   ],
   "source": [
    "# ajout de la colonne 'product_weight_g' dans order_item\n",
    "order_item = order_item.merge(product[['product_id', 'product_weight_g','product_category_name']], on='product_id', how='left')\n",
    "order_item.shape"
   ]
  },
  {
   "cell_type": "code",
   "execution_count": 35,
   "metadata": {},
   "outputs": [
    {
     "data": {
      "text/html": [
       "<div>\n",
       "<style scoped>\n",
       "    .dataframe tbody tr th:only-of-type {\n",
       "        vertical-align: middle;\n",
       "    }\n",
       "\n",
       "    .dataframe tbody tr th {\n",
       "        vertical-align: top;\n",
       "    }\n",
       "\n",
       "    .dataframe thead th {\n",
       "        text-align: right;\n",
       "    }\n",
       "</style>\n",
       "<table border=\"1\" class=\"dataframe\">\n",
       "  <thead>\n",
       "    <tr style=\"text-align: right;\">\n",
       "      <th></th>\n",
       "      <th>order_id</th>\n",
       "      <th>order_item_id</th>\n",
       "      <th>product_id</th>\n",
       "      <th>seller_id</th>\n",
       "      <th>shipping_limit_date</th>\n",
       "      <th>price</th>\n",
       "      <th>freight_value</th>\n",
       "      <th>product_weight_g</th>\n",
       "      <th>product_category_name</th>\n",
       "    </tr>\n",
       "  </thead>\n",
       "  <tbody>\n",
       "    <tr>\n",
       "      <th>7098</th>\n",
       "      <td>101157d4fae1c9fb74a00a5dee265c25</td>\n",
       "      <td>1</td>\n",
       "      <td>5eb564652db742ff8f28759cd8d2652a</td>\n",
       "      <td>4e922959ae960d389249c378d1c939f5</td>\n",
       "      <td>2017-04-11 08:02:26</td>\n",
       "      <td>29.0</td>\n",
       "      <td>14.52</td>\n",
       "      <td>NaN</td>\n",
       "      <td>NaN</td>\n",
       "    </tr>\n",
       "    <tr>\n",
       "      <th>9233</th>\n",
       "      <td>1521c6bb7b1028154c8c67cf80fa809f</td>\n",
       "      <td>1</td>\n",
       "      <td>5eb564652db742ff8f28759cd8d2652a</td>\n",
       "      <td>4e922959ae960d389249c378d1c939f5</td>\n",
       "      <td>2017-04-07 10:10:16</td>\n",
       "      <td>29.0</td>\n",
       "      <td>16.05</td>\n",
       "      <td>NaN</td>\n",
       "      <td>NaN</td>\n",
       "    </tr>\n",
       "    <tr>\n",
       "      <th>28715</th>\n",
       "      <td>415cfaaaa8cea49f934470548797fed1</td>\n",
       "      <td>1</td>\n",
       "      <td>5eb564652db742ff8f28759cd8d2652a</td>\n",
       "      <td>4e922959ae960d389249c378d1c939f5</td>\n",
       "      <td>2017-04-07 10:35:19</td>\n",
       "      <td>29.0</td>\n",
       "      <td>14.52</td>\n",
       "      <td>NaN</td>\n",
       "      <td>NaN</td>\n",
       "    </tr>\n",
       "    <tr>\n",
       "      <th>28716</th>\n",
       "      <td>415cfaaaa8cea49f934470548797fed1</td>\n",
       "      <td>2</td>\n",
       "      <td>5eb564652db742ff8f28759cd8d2652a</td>\n",
       "      <td>4e922959ae960d389249c378d1c939f5</td>\n",
       "      <td>2017-04-07 10:35:19</td>\n",
       "      <td>29.0</td>\n",
       "      <td>14.52</td>\n",
       "      <td>NaN</td>\n",
       "      <td>NaN</td>\n",
       "    </tr>\n",
       "    <tr>\n",
       "      <th>39299</th>\n",
       "      <td>595316a07cd3dea9db7adfcc7e247ae7</td>\n",
       "      <td>1</td>\n",
       "      <td>5eb564652db742ff8f28759cd8d2652a</td>\n",
       "      <td>4e922959ae960d389249c378d1c939f5</td>\n",
       "      <td>2017-08-18 04:26:04</td>\n",
       "      <td>39.0</td>\n",
       "      <td>9.27</td>\n",
       "      <td>NaN</td>\n",
       "      <td>NaN</td>\n",
       "    </tr>\n",
       "    <tr>\n",
       "      <th>48424</th>\n",
       "      <td>6e150190fbe04c642a9cf0b80d83ee16</td>\n",
       "      <td>1</td>\n",
       "      <td>5eb564652db742ff8f28759cd8d2652a</td>\n",
       "      <td>4e922959ae960d389249c378d1c939f5</td>\n",
       "      <td>2017-06-30 16:45:14</td>\n",
       "      <td>39.0</td>\n",
       "      <td>16.79</td>\n",
       "      <td>NaN</td>\n",
       "      <td>NaN</td>\n",
       "    </tr>\n",
       "    <tr>\n",
       "      <th>48980</th>\n",
       "      <td>6f497c40431d5fb0cfbd6c943dd29215</td>\n",
       "      <td>1</td>\n",
       "      <td>5eb564652db742ff8f28759cd8d2652a</td>\n",
       "      <td>4e922959ae960d389249c378d1c939f5</td>\n",
       "      <td>2017-04-11 05:55:32</td>\n",
       "      <td>29.0</td>\n",
       "      <td>10.96</td>\n",
       "      <td>NaN</td>\n",
       "      <td>NaN</td>\n",
       "    </tr>\n",
       "    <tr>\n",
       "      <th>58833</th>\n",
       "      <td>85f8ad45e067abd694b627859fa57453</td>\n",
       "      <td>1</td>\n",
       "      <td>09ff539a621711667c43eba6a3bd8466</td>\n",
       "      <td>8b8cfc8305aa441e4239358c9f6f2485</td>\n",
       "      <td>2017-02-03 21:40:02</td>\n",
       "      <td>1934.0</td>\n",
       "      <td>27.00</td>\n",
       "      <td>NaN</td>\n",
       "      <td>bebes</td>\n",
       "    </tr>\n",
       "    <tr>\n",
       "      <th>71134</th>\n",
       "      <td>a2456e7f02197951664897a94c87242d</td>\n",
       "      <td>1</td>\n",
       "      <td>5eb564652db742ff8f28759cd8d2652a</td>\n",
       "      <td>4e922959ae960d389249c378d1c939f5</td>\n",
       "      <td>2017-04-06 11:50:09</td>\n",
       "      <td>29.0</td>\n",
       "      <td>24.84</td>\n",
       "      <td>NaN</td>\n",
       "      <td>NaN</td>\n",
       "    </tr>\n",
       "    <tr>\n",
       "      <th>73556</th>\n",
       "      <td>a7a43f469c0d7bdb0a23a82db125aefa</td>\n",
       "      <td>1</td>\n",
       "      <td>5eb564652db742ff8f28759cd8d2652a</td>\n",
       "      <td>4e922959ae960d389249c378d1c939f5</td>\n",
       "      <td>2017-08-28 13:15:11</td>\n",
       "      <td>39.0</td>\n",
       "      <td>15.10</td>\n",
       "      <td>NaN</td>\n",
       "      <td>NaN</td>\n",
       "    </tr>\n",
       "    <tr>\n",
       "      <th>82767</th>\n",
       "      <td>bbfc7badbed2f1828e22b6d629201bd4</td>\n",
       "      <td>1</td>\n",
       "      <td>5eb564652db742ff8f28759cd8d2652a</td>\n",
       "      <td>4e922959ae960d389249c378d1c939f5</td>\n",
       "      <td>2017-07-18 04:04:10</td>\n",
       "      <td>39.0</td>\n",
       "      <td>11.85</td>\n",
       "      <td>NaN</td>\n",
       "      <td>NaN</td>\n",
       "    </tr>\n",
       "    <tr>\n",
       "      <th>84199</th>\n",
       "      <td>bf49f84a0580ef6751e13357776b7ed9</td>\n",
       "      <td>1</td>\n",
       "      <td>5eb564652db742ff8f28759cd8d2652a</td>\n",
       "      <td>4e922959ae960d389249c378d1c939f5</td>\n",
       "      <td>2017-07-09 21:35:18</td>\n",
       "      <td>39.0</td>\n",
       "      <td>15.10</td>\n",
       "      <td>NaN</td>\n",
       "      <td>NaN</td>\n",
       "    </tr>\n",
       "    <tr>\n",
       "      <th>85060</th>\n",
       "      <td>c1424efcde3c9e9febd9e1761667789e</td>\n",
       "      <td>1</td>\n",
       "      <td>5eb564652db742ff8f28759cd8d2652a</td>\n",
       "      <td>4e922959ae960d389249c378d1c939f5</td>\n",
       "      <td>2017-04-14 02:45:36</td>\n",
       "      <td>29.0</td>\n",
       "      <td>14.52</td>\n",
       "      <td>NaN</td>\n",
       "      <td>NaN</td>\n",
       "    </tr>\n",
       "    <tr>\n",
       "      <th>93346</th>\n",
       "      <td>d38dcb503cd4ddc6ce7702552918bd8f</td>\n",
       "      <td>1</td>\n",
       "      <td>5eb564652db742ff8f28759cd8d2652a</td>\n",
       "      <td>4e922959ae960d389249c378d1c939f5</td>\n",
       "      <td>2017-06-09 17:55:13</td>\n",
       "      <td>39.0</td>\n",
       "      <td>15.10</td>\n",
       "      <td>NaN</td>\n",
       "      <td>NaN</td>\n",
       "    </tr>\n",
       "    <tr>\n",
       "      <th>93347</th>\n",
       "      <td>d38dcb503cd4ddc6ce7702552918bd8f</td>\n",
       "      <td>2</td>\n",
       "      <td>5eb564652db742ff8f28759cd8d2652a</td>\n",
       "      <td>4e922959ae960d389249c378d1c939f5</td>\n",
       "      <td>2017-06-09 17:55:13</td>\n",
       "      <td>39.0</td>\n",
       "      <td>15.10</td>\n",
       "      <td>NaN</td>\n",
       "      <td>NaN</td>\n",
       "    </tr>\n",
       "    <tr>\n",
       "      <th>97847</th>\n",
       "      <td>ddf16d77e858a32f36e10c289a28ef61</td>\n",
       "      <td>1</td>\n",
       "      <td>5eb564652db742ff8f28759cd8d2652a</td>\n",
       "      <td>4e922959ae960d389249c378d1c939f5</td>\n",
       "      <td>2017-05-02 10:50:08</td>\n",
       "      <td>29.0</td>\n",
       "      <td>14.52</td>\n",
       "      <td>NaN</td>\n",
       "      <td>NaN</td>\n",
       "    </tr>\n",
       "    <tr>\n",
       "      <th>100495</th>\n",
       "      <td>e3daea0200104991cb979c2fcc509ae7</td>\n",
       "      <td>1</td>\n",
       "      <td>5eb564652db742ff8f28759cd8d2652a</td>\n",
       "      <td>4e922959ae960d389249c378d1c939f5</td>\n",
       "      <td>2017-04-06 14:22:36</td>\n",
       "      <td>29.0</td>\n",
       "      <td>10.96</td>\n",
       "      <td>NaN</td>\n",
       "      <td>NaN</td>\n",
       "    </tr>\n",
       "    <tr>\n",
       "      <th>103715</th>\n",
       "      <td>eb855beb3ac99461f7a076b4c3652472</td>\n",
       "      <td>1</td>\n",
       "      <td>5eb564652db742ff8f28759cd8d2652a</td>\n",
       "      <td>4e922959ae960d389249c378d1c939f5</td>\n",
       "      <td>2017-03-30 16:03:46</td>\n",
       "      <td>29.0</td>\n",
       "      <td>14.52</td>\n",
       "      <td>NaN</td>\n",
       "      <td>NaN</td>\n",
       "    </tr>\n",
       "  </tbody>\n",
       "</table>\n",
       "</div>"
      ],
      "text/plain": [
       "                                order_id  order_item_id  \\\n",
       "7098    101157d4fae1c9fb74a00a5dee265c25              1   \n",
       "9233    1521c6bb7b1028154c8c67cf80fa809f              1   \n",
       "28715   415cfaaaa8cea49f934470548797fed1              1   \n",
       "28716   415cfaaaa8cea49f934470548797fed1              2   \n",
       "39299   595316a07cd3dea9db7adfcc7e247ae7              1   \n",
       "48424   6e150190fbe04c642a9cf0b80d83ee16              1   \n",
       "48980   6f497c40431d5fb0cfbd6c943dd29215              1   \n",
       "58833   85f8ad45e067abd694b627859fa57453              1   \n",
       "71134   a2456e7f02197951664897a94c87242d              1   \n",
       "73556   a7a43f469c0d7bdb0a23a82db125aefa              1   \n",
       "82767   bbfc7badbed2f1828e22b6d629201bd4              1   \n",
       "84199   bf49f84a0580ef6751e13357776b7ed9              1   \n",
       "85060   c1424efcde3c9e9febd9e1761667789e              1   \n",
       "93346   d38dcb503cd4ddc6ce7702552918bd8f              1   \n",
       "93347   d38dcb503cd4ddc6ce7702552918bd8f              2   \n",
       "97847   ddf16d77e858a32f36e10c289a28ef61              1   \n",
       "100495  e3daea0200104991cb979c2fcc509ae7              1   \n",
       "103715  eb855beb3ac99461f7a076b4c3652472              1   \n",
       "\n",
       "                              product_id                         seller_id  \\\n",
       "7098    5eb564652db742ff8f28759cd8d2652a  4e922959ae960d389249c378d1c939f5   \n",
       "9233    5eb564652db742ff8f28759cd8d2652a  4e922959ae960d389249c378d1c939f5   \n",
       "28715   5eb564652db742ff8f28759cd8d2652a  4e922959ae960d389249c378d1c939f5   \n",
       "28716   5eb564652db742ff8f28759cd8d2652a  4e922959ae960d389249c378d1c939f5   \n",
       "39299   5eb564652db742ff8f28759cd8d2652a  4e922959ae960d389249c378d1c939f5   \n",
       "48424   5eb564652db742ff8f28759cd8d2652a  4e922959ae960d389249c378d1c939f5   \n",
       "48980   5eb564652db742ff8f28759cd8d2652a  4e922959ae960d389249c378d1c939f5   \n",
       "58833   09ff539a621711667c43eba6a3bd8466  8b8cfc8305aa441e4239358c9f6f2485   \n",
       "71134   5eb564652db742ff8f28759cd8d2652a  4e922959ae960d389249c378d1c939f5   \n",
       "73556   5eb564652db742ff8f28759cd8d2652a  4e922959ae960d389249c378d1c939f5   \n",
       "82767   5eb564652db742ff8f28759cd8d2652a  4e922959ae960d389249c378d1c939f5   \n",
       "84199   5eb564652db742ff8f28759cd8d2652a  4e922959ae960d389249c378d1c939f5   \n",
       "85060   5eb564652db742ff8f28759cd8d2652a  4e922959ae960d389249c378d1c939f5   \n",
       "93346   5eb564652db742ff8f28759cd8d2652a  4e922959ae960d389249c378d1c939f5   \n",
       "93347   5eb564652db742ff8f28759cd8d2652a  4e922959ae960d389249c378d1c939f5   \n",
       "97847   5eb564652db742ff8f28759cd8d2652a  4e922959ae960d389249c378d1c939f5   \n",
       "100495  5eb564652db742ff8f28759cd8d2652a  4e922959ae960d389249c378d1c939f5   \n",
       "103715  5eb564652db742ff8f28759cd8d2652a  4e922959ae960d389249c378d1c939f5   \n",
       "\n",
       "        shipping_limit_date   price  freight_value  product_weight_g  \\\n",
       "7098    2017-04-11 08:02:26    29.0          14.52               NaN   \n",
       "9233    2017-04-07 10:10:16    29.0          16.05               NaN   \n",
       "28715   2017-04-07 10:35:19    29.0          14.52               NaN   \n",
       "28716   2017-04-07 10:35:19    29.0          14.52               NaN   \n",
       "39299   2017-08-18 04:26:04    39.0           9.27               NaN   \n",
       "48424   2017-06-30 16:45:14    39.0          16.79               NaN   \n",
       "48980   2017-04-11 05:55:32    29.0          10.96               NaN   \n",
       "58833   2017-02-03 21:40:02  1934.0          27.00               NaN   \n",
       "71134   2017-04-06 11:50:09    29.0          24.84               NaN   \n",
       "73556   2017-08-28 13:15:11    39.0          15.10               NaN   \n",
       "82767   2017-07-18 04:04:10    39.0          11.85               NaN   \n",
       "84199   2017-07-09 21:35:18    39.0          15.10               NaN   \n",
       "85060   2017-04-14 02:45:36    29.0          14.52               NaN   \n",
       "93346   2017-06-09 17:55:13    39.0          15.10               NaN   \n",
       "93347   2017-06-09 17:55:13    39.0          15.10               NaN   \n",
       "97847   2017-05-02 10:50:08    29.0          14.52               NaN   \n",
       "100495  2017-04-06 14:22:36    29.0          10.96               NaN   \n",
       "103715  2017-03-30 16:03:46    29.0          14.52               NaN   \n",
       "\n",
       "       product_category_name  \n",
       "7098                     NaN  \n",
       "9233                     NaN  \n",
       "28715                    NaN  \n",
       "28716                    NaN  \n",
       "39299                    NaN  \n",
       "48424                    NaN  \n",
       "48980                    NaN  \n",
       "58833                  bebes  \n",
       "71134                    NaN  \n",
       "73556                    NaN  \n",
       "82767                    NaN  \n",
       "84199                    NaN  \n",
       "85060                    NaN  \n",
       "93346                    NaN  \n",
       "93347                    NaN  \n",
       "97847                    NaN  \n",
       "100495                   NaN  \n",
       "103715                   NaN  "
      ]
     },
     "execution_count": 35,
     "metadata": {},
     "output_type": "execute_result"
    }
   ],
   "source": [
    "order_item[order_item['product_weight_g'].isnull()]"
   ]
  },
  {
   "cell_type": "code",
   "execution_count": 36,
   "metadata": {},
   "outputs": [],
   "source": [
    "# imputation des valeurs manquante par les mediane de la colonne 'product_weight_g' par 'freight_value'\n",
    "order_item['product_weight_g'] = order_item.groupby('freight_value')['product_weight_g'].transform(lambda x: x.fillna(x.median()))"
   ]
  },
  {
   "cell_type": "code",
   "execution_count": 37,
   "metadata": {},
   "outputs": [],
   "source": [
    "# réduction à une ligen par commande\n",
    "# somme de price devient Montant\n",
    "# mode du product_weight_g Poids\n",
    "\n",
    "# Définition d'une fonction pour calculer le mode\n",
    "def mode(x):\n",
    "    return pd.Series.mode(x)[0] if not x.mode().empty else None\n",
    "\n",
    "# Réduction à une ligne par commande avec somme de price et mode de product_weight_g\n",
    "order_item = order_item.groupby('order_id').agg({\n",
    "    'price': 'sum', \n",
    "    'product_weight_g': mode,\n",
    "    'product_category_name': mode,\n",
    "    'order_item_id': 'count'\n",
    "}).reset_index()\n",
    "\n",
    "# Renommer les colonnes\n",
    "order_item = order_item.rename(columns={'price': 'Montant', 'product_weight_g': 'Poids Produit', 'product_category_name': 'Catégorie Produit', 'order_item_id': 'Nbre Produit'})\n"
   ]
  },
  {
   "cell_type": "code",
   "execution_count": 38,
   "metadata": {},
   "outputs": [
    {
     "data": {
      "text/plain": [
       "(99441, 8)"
      ]
     },
     "execution_count": 38,
     "metadata": {},
     "output_type": "execute_result"
    }
   ],
   "source": [
    "orders.shape"
   ]
  },
  {
   "cell_type": "code",
   "execution_count": 39,
   "metadata": {},
   "outputs": [
    {
     "data": {
      "text/plain": [
       "(99441, 12)"
      ]
     },
     "execution_count": 39,
     "metadata": {},
     "output_type": "execute_result"
    }
   ],
   "source": [
    "# Ajout de colonne à la dataframe orders\n",
    "orders_1 = orders.merge(order_item, on='order_id', how='left')\n",
    "orders_1.shape"
   ]
  },
  {
   "cell_type": "markdown",
   "metadata": {},
   "source": [
    "### 2. Reviews"
   ]
  },
  {
   "cell_type": "code",
   "execution_count": 40,
   "metadata": {},
   "outputs": [
    {
     "name": "stdout",
     "output_type": "stream",
     "text": [
      "                              review_id                          order_id  \\\n",
      "0      7bc2406110b926393aa56f80a40eba40  73fc7af87114b39712e6da79b0a377eb   \n",
      "1      80e641a11e56f04c1ad469d5645fdfde  a548910a1c6147796b98fdf73dbeba33   \n",
      "2      228ce5500dc1d8e020d8d1322874b6f0  f9e4b658b201a9f2ecdecbb34bed034b   \n",
      "3      e64fb393e7b32834bb789ff8bb30750e  658677c97b385a9be170737859d3511b   \n",
      "4      f7c4243c7fe1938f181bec41a392bdeb  8e6bfb81e283fa7e4f11123a3fb894f1   \n",
      "...                                 ...                               ...   \n",
      "99219  574ed12dd733e5fa530cfd4bbf39d7c9  2a8c23fee101d4d5662fa670396eb8da   \n",
      "99220  f3897127253a9592a73be9bdfdf4ed7a  22ec9f0669f784db00fa86d035cf8602   \n",
      "99221  b3de70c89b1510c4cd3d0649fd302472  55d4004744368f5571d1f590031933e4   \n",
      "99222  1adeb9d84d72fe4e337617733eb85149  7725825d039fc1f0ceb7635e3f7d9206   \n",
      "99223  efe49f1d6f951dd88b51e6ccd4cc548f  90531360ecb1eec2a1fbb265a0db0508   \n",
      "\n",
      "       review_score review_comment_title  \\\n",
      "0                 4                  NaN   \n",
      "1                 5                  NaN   \n",
      "2                 5                  NaN   \n",
      "3                 5                  NaN   \n",
      "4                 5                  NaN   \n",
      "...             ...                  ...   \n",
      "99219             5                  NaN   \n",
      "99220             5                  NaN   \n",
      "99221             5                  NaN   \n",
      "99222             4                  NaN   \n",
      "99223             1                  NaN   \n",
      "\n",
      "                                  review_comment_message review_creation_date  \\\n",
      "0                                                    NaN  2018-01-18 00:00:00   \n",
      "1                                                    NaN  2018-03-10 00:00:00   \n",
      "2                                                    NaN  2018-02-17 00:00:00   \n",
      "3                  Recebi bem antes do prazo estipulado.  2017-04-21 00:00:00   \n",
      "4      Parabéns lojas lannister adorei comprar pela I...  2018-03-01 00:00:00   \n",
      "...                                                  ...                  ...   \n",
      "99219                                                NaN  2018-07-07 00:00:00   \n",
      "99220                                                NaN  2017-12-09 00:00:00   \n",
      "99221  Excelente mochila, entrega super rápida. Super...  2018-03-22 00:00:00   \n",
      "99222                                                NaN  2018-07-01 00:00:00   \n",
      "99223  meu produto chegou e ja tenho que devolver, po...  2017-07-03 00:00:00   \n",
      "\n",
      "      review_answer_timestamp  \n",
      "0         2018-01-18 21:46:59  \n",
      "1         2018-03-11 03:05:13  \n",
      "2         2018-02-18 14:36:24  \n",
      "3         2017-04-21 22:02:06  \n",
      "4         2018-03-02 10:26:53  \n",
      "...                       ...  \n",
      "99219     2018-07-14 17:18:30  \n",
      "99220     2017-12-11 20:06:42  \n",
      "99221     2018-03-23 09:10:43  \n",
      "99222     2018-07-02 12:59:13  \n",
      "99223     2017-07-03 21:01:49  \n",
      "\n",
      "[99224 rows x 7 columns]\n"
     ]
    }
   ],
   "source": [
    "print(order_review)"
   ]
  },
  {
   "cell_type": "code",
   "execution_count": 41,
   "metadata": {},
   "outputs": [],
   "source": [
    "# réduction à une ligne par commande\n",
    "# moyenne du review_score devient review_score\n",
    "\n",
    "order_review = order_review.groupby('order_id').agg({'review_score': 'mean'}).reset_index()\n",
    "order_review = order_review.rename(columns={'review_score': 'Score'})"
   ]
  },
  {
   "cell_type": "code",
   "execution_count": 42,
   "metadata": {},
   "outputs": [
    {
     "data": {
      "text/plain": [
       "(99441, 13)"
      ]
     },
     "execution_count": 42,
     "metadata": {},
     "output_type": "execute_result"
    }
   ],
   "source": [
    "# ajout de la colonne 'review_score' dans orders_1 en utilisant la colonne 'order_id' seulement les lignes communes\n",
    "orders_2 = orders_1.merge(order_review[['order_id', 'Score']], on='order_id', how='left')\n",
    "orders_2.shape"
   ]
  },
  {
   "cell_type": "markdown",
   "metadata": {},
   "source": [
    "### 3. Customers"
   ]
  },
  {
   "cell_type": "code",
   "execution_count": 43,
   "metadata": {},
   "outputs": [],
   "source": [
    "# transformation en cardinalité\n",
    "customers['customer_state'] = customers['customer_state'].apply(lambda x: 1 if x in 'SP' else '0')\n",
    "customers=customers.rename(columns={'customer_state':'Paulistanos'})"
   ]
  },
  {
   "cell_type": "code",
   "execution_count": 44,
   "metadata": {},
   "outputs": [
    {
     "data": {
      "text/plain": [
       "Paulistanos\n",
       "0    57695\n",
       "1    41746\n",
       "Name: count, dtype: int64"
      ]
     },
     "execution_count": 44,
     "metadata": {},
     "output_type": "execute_result"
    }
   ],
   "source": [
    "\n",
    "customers['Paulistanos'].value_counts()"
   ]
  },
  {
   "cell_type": "code",
   "execution_count": 45,
   "metadata": {},
   "outputs": [
    {
     "data": {
      "text/plain": [
       "(99441, 15)"
      ]
     },
     "execution_count": 45,
     "metadata": {},
     "output_type": "execute_result"
    }
   ],
   "source": [
    "# ajout des colonnes customer_unique_id et cutomer_state dans orders_2\n",
    "orders_3 = orders_2.merge(customers[['customer_id', 'customer_unique_id', 'Paulistanos']], on='customer_id', how='left')\n",
    "orders_3.shape"
   ]
  },
  {
   "cell_type": "markdown",
   "metadata": {},
   "source": [
    "### 4. Orders"
   ]
  },
  {
   "cell_type": "code",
   "execution_count": 46,
   "metadata": {},
   "outputs": [
    {
     "data": {
      "text/plain": [
       "Index(['order_id', 'customer_id', 'order_status', 'order_purchase_timestamp',\n",
       "       'order_approved_at', 'order_delivered_carrier_date',\n",
       "       'order_delivered_customer_date', 'order_estimated_delivery_date',\n",
       "       'Montant', 'Poids Produit', 'Catégorie Produit', 'Nbre Produit',\n",
       "       'Score', 'customer_unique_id', 'Paulistanos'],\n",
       "      dtype='object')"
      ]
     },
     "execution_count": 46,
     "metadata": {},
     "output_type": "execute_result"
    }
   ],
   "source": [
    "orders_3.columns"
   ]
  },
  {
   "cell_type": "code",
   "execution_count": 48,
   "metadata": {},
   "outputs": [
    {
     "name": "stdout",
     "output_type": "stream",
     "text": [
      "                     customer_unique_id  Montant_total  Nbre Produit  \\\n",
      "0      0000366f3b9a7992bf8c76cfdf3221e2         129.90           1.0   \n",
      "1      0000b849f77a49e4a4ce2b2a4ca5be3f          18.90           1.0   \n",
      "2      0000f46a3911fa3c0805444483337064          69.00           1.0   \n",
      "3      0000f6ccb0745a6a4b88665a16c9f078          25.99           1.0   \n",
      "4      0004aac84e0df4da2b147fca70cf8255         180.00           1.0   \n",
      "...                                 ...            ...           ...   \n",
      "96091  fffcf5a5ff07b0908bd4e2dbc735a684        1570.00           2.0   \n",
      "96092  fffea47cd6d3cc0a88bd621562a9d061          64.89           1.0   \n",
      "96093  ffff371b4d645b6ecea244b27531430a          89.90           1.0   \n",
      "96094  ffff5962728ec6157033ef9805bacc48         115.00           1.0   \n",
      "96095  ffffd2657e2aad2907e67c3e9daecbeb          56.99           1.0   \n",
      "\n",
      "       Poids Produit Paulistanos order_purchase_timestamp  Fréquence  Score  \\\n",
      "0             1500.0           1      2018-05-10 10:56:27          1    5.0   \n",
      "1              375.0           1      2018-05-07 11:11:27          1    4.0   \n",
      "2             1500.0           0      2017-03-10 21:05:03          1    3.0   \n",
      "3              150.0           0      2017-10-12 20:29:41          1    4.0   \n",
      "4             6050.0           1      2017-11-14 19:45:42          1    5.0   \n",
      "...              ...         ...                      ...        ...    ...   \n",
      "96091        30000.0           0      2017-06-08 21:00:36          1    5.0   \n",
      "96092         1720.0           0      2017-12-10 20:07:56          1    4.0   \n",
      "96093          600.0           0      2017-02-07 15:49:16          1    5.0   \n",
      "96094          444.0           0      2018-05-02 15:17:41          1    5.0   \n",
      "96095          400.0           0      2017-05-02 20:18:45          1    5.0   \n",
      "\n",
      "      order_status   Catégorie Produit  \n",
      "0        delivered     cama_mesa_banho  \n",
      "1        delivered        beleza_saude  \n",
      "2        delivered           papelaria  \n",
      "3        delivered           telefonia  \n",
      "4        delivered           telefonia  \n",
      "...            ...                 ...  \n",
      "96091    delivered        beleza_saude  \n",
      "96092    delivered               bebes  \n",
      "96093    delivered          automotivo  \n",
      "96094    delivered  relogios_presentes  \n",
      "96095    delivered          perfumaria  \n",
      "\n",
      "[96096 rows x 10 columns]\n"
     ]
    }
   ],
   "source": [
    "# réduction à une ligne par customer_unique_id\n",
    "# somme de Montant devient Montant_total\n",
    "# Poids Produit, customer_state, et order_purchase_timestamp sont conservés avec la dite la plus recente\n",
    "# création d'une variable Fréquence avec le nombre de commande par client\n",
    "# moyenne de Score devient Score\n",
    "orders_3['orser_purchase_timestamp'] = pd.to_datetime(orders_3['order_purchase_timestamp'])\n",
    "\n",
    "# Tri préalable des données par 'customer_unique_id' et 'order_purchase_timestamp'\n",
    "orders_3 = orders_3.sort_values(by=['customer_unique_id', 'order_purchase_timestamp'])\n",
    "\n",
    "# Groupement et agrégation\n",
    "orders_4 = orders_3.groupby('customer_unique_id').agg({\n",
    "    'Montant': 'sum',\n",
    "    'Nbre Produit': 'sum',  \n",
    "    'Poids Produit': 'last',  \n",
    "    'Paulistanos': 'last',  \n",
    "    'order_purchase_timestamp': 'max',\n",
    "    'order_id': 'count',\n",
    "    'Score': 'mean',\n",
    "    'order_status': 'last',\n",
    "    'Catégorie Produit': 'last'\n",
    "}).reset_index()\n",
    "\n",
    "\n",
    "orders_4 = orders_4.rename(columns={'Montant': 'Montant_total', 'order_id': 'Fréquence'})\n",
    "\n",
    "print(orders_4)"
   ]
  },
  {
   "cell_type": "code",
   "execution_count": 49,
   "metadata": {},
   "outputs": [
    {
     "name": "stdout",
     "output_type": "stream",
     "text": [
      "delivered\n",
      "customer_unique_id             0\n",
      "Montant_total                  0\n",
      "Nbre Produit                   0\n",
      "Poids Produit                  0\n",
      "Paulistanos                    0\n",
      "order_purchase_timestamp       0\n",
      "Fréquence                      0\n",
      "Score                        603\n",
      "order_status                   0\n",
      "Catégorie Produit           1258\n",
      "dtype: int64\n",
      "\n",
      "canceled\n",
      "customer_unique_id            0\n",
      "Montant_total                 0\n",
      "Nbre Produit                  0\n",
      "Poids Produit               105\n",
      "Paulistanos                   0\n",
      "order_purchase_timestamp      0\n",
      "Fréquence                     0\n",
      "Score                        18\n",
      "order_status                  0\n",
      "Catégorie Produit           119\n",
      "dtype: int64\n",
      "\n",
      "shipped\n",
      "customer_unique_id           0\n",
      "Montant_total                0\n",
      "Nbre Produit                 0\n",
      "Poids Produit                1\n",
      "Paulistanos                  0\n",
      "order_purchase_timestamp     0\n",
      "Fréquence                    0\n",
      "Score                       70\n",
      "order_status                 0\n",
      "Catégorie Produit           24\n",
      "dtype: int64\n",
      "\n",
      "unavailable\n",
      "customer_unique_id            0\n",
      "Montant_total                 0\n",
      "Nbre Produit                  0\n",
      "Poids Produit               564\n",
      "Paulistanos                   0\n",
      "order_purchase_timestamp      0\n",
      "Fréquence                     0\n",
      "Score                        13\n",
      "order_status                  0\n",
      "Catégorie Produit           564\n",
      "dtype: int64\n",
      "\n",
      "invoiced\n",
      "customer_unique_id          0\n",
      "Montant_total               0\n",
      "Nbre Produit                0\n",
      "Poids Produit               2\n",
      "Paulistanos                 0\n",
      "order_purchase_timestamp    0\n",
      "Fréquence                   0\n",
      "Score                       5\n",
      "order_status                0\n",
      "Catégorie Produit           8\n",
      "dtype: int64\n",
      "\n",
      "processing\n",
      "customer_unique_id           0\n",
      "Montant_total                0\n",
      "Nbre Produit                 0\n",
      "Poids Produit                0\n",
      "Paulistanos                  0\n",
      "order_purchase_timestamp     0\n",
      "Fréquence                    0\n",
      "Score                        6\n",
      "order_status                 0\n",
      "Catégorie Produit           11\n",
      "dtype: int64\n",
      "\n",
      "created\n",
      "customer_unique_id          0\n",
      "Montant_total               0\n",
      "Nbre Produit                0\n",
      "Poids Produit               4\n",
      "Paulistanos                 0\n",
      "order_purchase_timestamp    0\n",
      "Fréquence                   0\n",
      "Score                       1\n",
      "order_status                0\n",
      "Catégorie Produit           4\n",
      "dtype: int64\n",
      "\n",
      "approved\n",
      "customer_unique_id          0\n",
      "Montant_total               0\n",
      "Nbre Produit                0\n",
      "Poids Produit               0\n",
      "Paulistanos                 0\n",
      "order_purchase_timestamp    0\n",
      "Fréquence                   0\n",
      "Score                       0\n",
      "order_status                0\n",
      "Catégorie Produit           0\n",
      "dtype: int64\n",
      "\n"
     ]
    }
   ],
   "source": [
    "for status in orders_4['order_status'].unique():\n",
    "    print(status)\n",
    "    print(orders_4[orders_4['order_status'] == status].isnull().sum())\n",
    "    print()"
   ]
  },
  {
   "cell_type": "code",
   "execution_count": 50,
   "metadata": {},
   "outputs": [],
   "source": [
    "# Score des catégories de produits delivrés sont remplacé par la moyenne des scores des produits de la catégorie\n",
    "orders_4['Score'] = orders_4.groupby('order_status')['Score'].transform(lambda x: x.fillna(x.mean()))\n",
    "\n",
    "# valeurs manquante de poids sont remplacé par 0\n",
    "orders_4['Poids Produit'] = orders_4['Poids Produit'].fillna(0)"
   ]
  },
  {
   "cell_type": "code",
   "execution_count": 51,
   "metadata": {},
   "outputs": [
    {
     "name": "stdout",
     "output_type": "stream",
     "text": [
      "                     customer_unique_id  Montant_total  Nbre Produit  \\\n",
      "0      0000366f3b9a7992bf8c76cfdf3221e2         129.90           1.0   \n",
      "1      0000b849f77a49e4a4ce2b2a4ca5be3f          18.90           1.0   \n",
      "2      0000f46a3911fa3c0805444483337064          69.00           1.0   \n",
      "3      0000f6ccb0745a6a4b88665a16c9f078          25.99           1.0   \n",
      "4      0004aac84e0df4da2b147fca70cf8255         180.00           1.0   \n",
      "...                                 ...            ...           ...   \n",
      "96091  fffcf5a5ff07b0908bd4e2dbc735a684        1570.00           2.0   \n",
      "96092  fffea47cd6d3cc0a88bd621562a9d061          64.89           1.0   \n",
      "96093  ffff371b4d645b6ecea244b27531430a          89.90           1.0   \n",
      "96094  ffff5962728ec6157033ef9805bacc48         115.00           1.0   \n",
      "96095  ffffd2657e2aad2907e67c3e9daecbeb          56.99           1.0   \n",
      "\n",
      "       Poids Produit Paulistanos order_purchase_timestamp  Fréquence  Score  \\\n",
      "0             1500.0           1      2018-05-10 10:56:27          1    5.0   \n",
      "1              375.0           1      2018-05-07 11:11:27          1    4.0   \n",
      "2             1500.0           0      2017-03-10 21:05:03          1    3.0   \n",
      "3              150.0           0      2017-10-12 20:29:41          1    4.0   \n",
      "4             6050.0           1      2017-11-14 19:45:42          1    5.0   \n",
      "...              ...         ...                      ...        ...    ...   \n",
      "96091        30000.0           0      2017-06-08 21:00:36          1    5.0   \n",
      "96092         1720.0           0      2017-12-10 20:07:56          1    4.0   \n",
      "96093          600.0           0      2017-02-07 15:49:16          1    5.0   \n",
      "96094          444.0           0      2018-05-02 15:17:41          1    5.0   \n",
      "96095          400.0           0      2017-05-02 20:18:45          1    5.0   \n",
      "\n",
      "      order_status   Catégorie Produit  \n",
      "0        delivered     cama_mesa_banho  \n",
      "1        delivered        beleza_saude  \n",
      "2        delivered           papelaria  \n",
      "3        delivered           telefonia  \n",
      "4        delivered           telefonia  \n",
      "...            ...                 ...  \n",
      "96091    delivered        beleza_saude  \n",
      "96092    delivered               bebes  \n",
      "96093    delivered          automotivo  \n",
      "96094    delivered  relogios_presentes  \n",
      "96095    delivered          perfumaria  \n",
      "\n",
      "[96096 rows x 10 columns]\n"
     ]
    }
   ],
   "source": [
    "print(orders_4)"
   ]
  },
  {
   "cell_type": "code",
   "execution_count": 52,
   "metadata": {},
   "outputs": [
    {
     "data": {
      "text/plain": [
       "3.1187562437562435"
      ]
     },
     "execution_count": 52,
     "metadata": {},
     "output_type": "execute_result"
    }
   ],
   "source": [
    "# pourcentage de clients avec plusieurs commandes\n",
    "orders_4[orders_4['Fréquence'] > 1].shape[0] / orders_4.shape[0] * 100"
   ]
  },
  {
   "cell_type": "code",
   "execution_count": 53,
   "metadata": {},
   "outputs": [
    {
     "data": {
      "text/plain": [
       "12.351190476190476"
      ]
     },
     "execution_count": 53,
     "metadata": {},
     "output_type": "execute_result"
    }
   ],
   "source": [
    "orders_4[orders_4['Nbre Produit'] > 1].shape[0] / orders_4.shape[0] * 100"
   ]
  },
  {
   "cell_type": "markdown",
   "metadata": {},
   "source": [
    "### 5. Création de variables"
   ]
  },
  {
   "cell_type": "code",
   "execution_count": 54,
   "metadata": {},
   "outputs": [],
   "source": [
    "orders_4['order_purchase_timestamp'] = pd.to_datetime(orders_4['order_purchase_timestamp'])\n",
    "# Variable 'Récence' : nombre de jours depuis la dernière commande\n",
    "orders_4['Récence'] = (orders_4['order_purchase_timestamp'].max() - orders_4['order_purchase_timestamp']).dt.days"
   ]
  },
  {
   "cell_type": "code",
   "execution_count": 55,
   "metadata": {},
   "outputs": [],
   "source": [
    "orders_4 = orders_4.drop(columns=['order_status'])"
   ]
  },
  {
   "cell_type": "code",
   "execution_count": 56,
   "metadata": {},
   "outputs": [],
   "source": [
    "orders_4['Panier Moyen'] = orders_4['Montant_total'] / orders_4['Fréquence']"
   ]
  },
  {
   "cell_type": "code",
   "execution_count": 57,
   "metadata": {},
   "outputs": [
    {
     "name": "stdout",
     "output_type": "stream",
     "text": [
      "                     customer_unique_id  Montant_total  Nbre Produit  \\\n",
      "0      0000366f3b9a7992bf8c76cfdf3221e2         129.90           1.0   \n",
      "1      0000b849f77a49e4a4ce2b2a4ca5be3f          18.90           1.0   \n",
      "2      0000f46a3911fa3c0805444483337064          69.00           1.0   \n",
      "3      0000f6ccb0745a6a4b88665a16c9f078          25.99           1.0   \n",
      "4      0004aac84e0df4da2b147fca70cf8255         180.00           1.0   \n",
      "...                                 ...            ...           ...   \n",
      "96091  fffcf5a5ff07b0908bd4e2dbc735a684        1570.00           2.0   \n",
      "96092  fffea47cd6d3cc0a88bd621562a9d061          64.89           1.0   \n",
      "96093  ffff371b4d645b6ecea244b27531430a          89.90           1.0   \n",
      "96094  ffff5962728ec6157033ef9805bacc48         115.00           1.0   \n",
      "96095  ffffd2657e2aad2907e67c3e9daecbeb          56.99           1.0   \n",
      "\n",
      "       Poids Produit Paulistanos order_purchase_timestamp  Fréquence  Score  \\\n",
      "0             1500.0           1      2018-05-10 10:56:27          1    5.0   \n",
      "1              375.0           1      2018-05-07 11:11:27          1    4.0   \n",
      "2             1500.0           0      2017-03-10 21:05:03          1    3.0   \n",
      "3              150.0           0      2017-10-12 20:29:41          1    4.0   \n",
      "4             6050.0           1      2017-11-14 19:45:42          1    5.0   \n",
      "...              ...         ...                      ...        ...    ...   \n",
      "96091        30000.0           0      2017-06-08 21:00:36          1    5.0   \n",
      "96092         1720.0           0      2017-12-10 20:07:56          1    4.0   \n",
      "96093          600.0           0      2017-02-07 15:49:16          1    5.0   \n",
      "96094          444.0           0      2018-05-02 15:17:41          1    5.0   \n",
      "96095          400.0           0      2017-05-02 20:18:45          1    5.0   \n",
      "\n",
      "        Catégorie Produit  Récence  Panier Moyen  \n",
      "0         cama_mesa_banho      160        129.90  \n",
      "1            beleza_saude      163         18.90  \n",
      "2               papelaria      585         69.00  \n",
      "3               telefonia      369         25.99  \n",
      "4               telefonia      336        180.00  \n",
      "...                   ...      ...           ...  \n",
      "96091        beleza_saude      495       1570.00  \n",
      "96092               bebes      310         64.89  \n",
      "96093          automotivo      617         89.90  \n",
      "96094  relogios_presentes      168        115.00  \n",
      "96095          perfumaria      532         56.99  \n",
      "\n",
      "[96096 rows x 11 columns]\n"
     ]
    }
   ],
   "source": [
    "print(orders_4)"
   ]
  },
  {
   "cell_type": "code",
   "execution_count": 3,
   "metadata": {},
   "outputs": [],
   "source": [
    "# charger la dataframe orders_4 dans un fichier csv\n",
    "orders_4 = pd.read_csv('./RFM.csv')"
   ]
  },
  {
   "cell_type": "code",
   "execution_count": 4,
   "metadata": {},
   "outputs": [
    {
     "data": {
      "image/png": "[encoded data removed]",
      "text/plain": [
       "<Figure size 1000x600 with 1 Axes>"
      ]
     },
     "metadata": {},
     "output_type": "display_data"
    }
   ],
   "source": [
    "import matplotlib.pyplot as plt\n",
    "import seaborn as sns\n",
    "\n",
    "# Conversion de la colonne 'order_purchase_timestamp' au format datetime\n",
    "orders_4['order_purchase_timestamp'] = pd.to_datetime(orders_4['order_purchase_timestamp'])\n",
    "\n",
    "# Configuration du style du graphique\n",
    "sns.set(style=\"whitegrid\")\n",
    "\n",
    "# Création du graphique\n",
    "plt.figure(figsize=(10, 6))\n",
    "plt.hist(orders_4['order_purchase_timestamp'], bins=20, color='skyblue', edgecolor='black')\n",
    "\n",
    "# Ajout des titres et étiquettes\n",
    "plt.title('Distribution des Dates d\\'Achat des Commandes', fontsize=15)\n",
    "plt.xlabel('Date d\\'Achat', fontsize=12)\n",
    "plt.ylabel('Nombre de Commandes', fontsize=12)\n",
    "\n",
    "# Affichage du graphique\n",
    "plt.show()"
   ]
  },
  {
   "cell_type": "code",
   "execution_count": 8,
   "metadata": {},
   "outputs": [],
   "source": [
    "orders_4 = orders_4[orders_4['order_purchase_timestamp'] >= '2017-01-01']\n",
    "orders_4 = orders_4[orders_4['order_purchase_timestamp'] <= '2018-08-31']"
   ]
  },
  {
   "cell_type": "code",
   "execution_count": 9,
   "metadata": {},
   "outputs": [],
   "source": [
    "# sauvegarde de la dataframe orders_4\n",
    "orders_4.to_csv('RFM.csv', index=False)"
   ]
  },
  {
   "cell_type": "code",
   "execution_count": 10,
   "metadata": {},
   "outputs": [],
   "source": [
    "simulation = orders_4.copy()\n",
    "\n",
    "simulation.drop('Nbre Produit', axis=1, inplace=True)\n",
    "simulation.drop('Panier Moyen', axis=1, inplace=True)\n",
    "simulation.drop('Paulistanos', axis=1, inplace=True)\n",
    "simulation.drop('Catégorie Produit', axis=1, inplace=True)"
   ]
  },
  {
   "cell_type": "code",
   "execution_count": 11,
   "metadata": {},
   "outputs": [],
   "source": [
    "# sauvegarde de la dataframe simulation\n",
    "simulation.to_csv('simulation.csv', index=False)"
   ]
  },
  {
   "cell_type": "code",
   "execution_count": null,
   "metadata": {},
   "outputs": [],
   "source": []
  }
 ],
 "metadata": {
  "kernelspec": {
   "display_name": "OCR",
   "language": "python",
   "name": "python3"
  },
  "language_info": {
   "codemirror_mode": {
    "name": "ipython",
    "version": 3
   },
   "file_extension": ".py",
   "mimetype": "text/x-python",
   "name": "python",
   "nbconvert_exporter": "python",
   "pygments_lexer": "ipython3",
   "version": "3.10.13"
  }
 },
 "nbformat": 4,
 "nbformat_minor": 2
}
